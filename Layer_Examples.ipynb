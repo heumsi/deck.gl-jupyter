{
 "cells": [
  {
   "cell_type": "markdown",
   "metadata": {},
   "source": [
    "# Layer Examples"
   ]
  },
  {
   "cell_type": "code",
   "execution_count": 14,
   "metadata": {},
   "outputs": [],
   "source": [
    "import os\n",
    "import deckgl.Layer as Layer"
   ]
  },
  {
   "cell_type": "code",
   "execution_count": 19,
   "metadata": {},
   "outputs": [],
   "source": [
    "access_token = os.getenv('MAPBOX_ACCESS_TOKEN')\n",
    "view_options = {\n",
    "    'center': [37.17407153, 126.9086032],\n",
    "    'zoom': 10,\n",
    "    'bearing': 0,\n",
    "    'pitch': 60,\n",
    "    'style': 'mapbox://styles/mapbox/dark-v9',\n",
    "    'access_token': access_token\n",
    "}"
   ]
  },
  {
   "cell_type": "markdown",
   "metadata": {},
   "source": [
    "## Arc Layer"
   ]
  },
  {
   "cell_type": "code",
   "execution_count": 20,
   "metadata": {},
   "outputs": [],
   "source": [
    "data = [\n",
    "    {\n",
    "        'from': {\n",
    "            'name': 'Hwaseong',\n",
    "            'coordinates': [126.9086032, 37.17407153]\n",
    "        },\n",
    "        'to': {\n",
    "            'name': 'Seoul',\n",
    "            'coordinates': [126.986, 37.541]\n",
    "        }\n",
    "    }\n",
    "]"
   ]
  },
  {
   "cell_type": "code",
   "execution_count": 21,
   "metadata": {},
   "outputs": [],
   "source": [
    "arc_layer = Layer.ArcLayer(data, **view_options)"
   ]
  },
  {
   "cell_type": "code",
   "execution_count": 22,
   "metadata": {},
   "outputs": [
    {
     "data": {
      "text/html": [
       "<iframe id=\"map\", srcdoc=\"<html>\n",
       "\n",
       "<head>\n",
       "    <script src='https://unpkg.com/deck.gl@~7.0.0/dist.min.js'></script>\n",
       "\n",
       "    <!-- only if base map is needed -->\n",
       "    <script src='https://api.tiles.mapbox.com/mapbox-gl-js/v0.44.1/mapbox-gl.js'></script>\n",
       "    <link href='https://api.tiles.mapbox.com/mapbox-gl-js/v0.44.1/mapbox-gl.css' rel='stylesheet' />\n",
       "\n",
       "    <style type='text/css'>\n",
       "        body {\n",
       "            margin: 0;\n",
       "            padding: 0;\n",
       "        }\n",
       "\n",
       "        #container {\n",
       "            width: 100vw;\n",
       "            height: 100vh;\n",
       "        }\n",
       "    </style>\n",
       "</head>\n",
       "\n",
       "<body>\n",
       "    <div id='container'></div>\n",
       "</body>\n",
       "\n",
       "<script type='text/javascript'>\n",
       "    function colorToRGBArray(color) {\n",
       "    if (Array.isArray(color)) {\n",
       "        return color.slice(0, 4);\n",
       "    }\n",
       "    const c = rgb(color);\n",
       "    return [c.r, c.g, c.b, 255];\n",
       "} \n",
       "    \n",
       "\n",
       "    \n",
       "\n",
       "    const deckgl = new deck.DeckGL({\n",
       "\n",
       "        container: 'container',\n",
       "        mapboxApiAccessToken: 'pk.eyJ1IjoiaGV1bXNpIiwiYSI6ImNqYng3ZW0xYTJsZHQycXBhM2F1bm9yMXIifQ.kV_zhG36r5EIXXT__LzlCw',\n",
       "        latitude: 37.17407153,\n",
       "        longitude: 126.9086032,\n",
       "        zoom: 10,\n",
       "        bearing: 0,\n",
       "        pitch: 60,\n",
       "        mapStyle: 'mapbox://styles/mapbox/dark-v9',\n",
       "          \n",
       "        \n",
       "    \n",
       "    layers: [\n",
       "        new deck.ArcLayer({\n",
       "            'id': 'ArcLayer',\n",
       "            'data': [{'from': {'name': 'Hwaseong', 'coordinates': [126.9086032, 37.17407153]}, 'to': {'name': 'Seoul', 'coordinates': [126.986, 37.541]}}],\n",
       "            // Styles\n",
       "            'widthUnits': 'pixels',\n",
       "            'widthScale': 1,\n",
       "            'widthMinPixels': 0,\n",
       "            'widthMaxPixels': 9007199254740991,\n",
       "            'getSourcePosition': d => d.from.coordinates,\n",
       "            'getTargetPosition': d => d.to.coordinates,\n",
       "            'getSourceColor': [0, 0, 0, 255],\n",
       "            'getTargetColor': [0, 0, 0, 255],\n",
       "            'getWidth': 1,\n",
       "            'getHeight': 1,\n",
       "            'getTilt': 0\n",
       "        })\n",
       "    ]\n",
       "    \n",
       "\n",
       "    })\n",
       "\n",
       "\n",
       "\n",
       "\n",
       "</script>\n",
       "\n",
       "\n",
       "</html>\" style=\"width: 100%; height: 500px;\"></iframe>"
      ],
      "text/plain": [
       "<IPython.core.display.HTML object>"
      ]
     },
     "metadata": {},
     "output_type": "display_data"
    }
   ],
   "source": [
    "arc_layer.show()"
   ]
  },
  {
   "cell_type": "markdown",
   "metadata": {},
   "source": [
    "## Path Layer"
   ]
  },
  {
   "cell_type": "code",
   "execution_count": 37,
   "metadata": {},
   "outputs": [],
   "source": [
    "data = [\n",
    "    {\n",
    "        'path': [[126.986, 37.541], [126.9086032, 37.17407153]],\n",
    "        'name': 'Seoul-Hwaseong',\n",
    "        'color': [255, 30, 100]\n",
    "    },\n",
    "    {\n",
    "        'path': [[126.986, 37.541], [127.179108, 37.245635]],\n",
    "        'name': 'Seoul-Suwon',\n",
    "        'color': [200, 100, 30]\n",
    "    }\n",
    "]"
   ]
  },
  {
   "cell_type": "code",
   "execution_count": 38,
   "metadata": {},
   "outputs": [],
   "source": [
    "path_layer = Layer.PathLayer(data, \n",
    "                             width=5,\n",
    "                             widthScale=20,\n",
    "                             widthMinPixels=2,\n",
    "                             **view_options)"
   ]
  },
  {
   "cell_type": "code",
   "execution_count": 39,
   "metadata": {},
   "outputs": [
    {
     "data": {
      "text/html": [
       "<iframe id=\"map\", srcdoc=\"<html>\n",
       "\n",
       "<head>\n",
       "    <script src='https://unpkg.com/deck.gl@~7.0.0/dist.min.js'></script>\n",
       "\n",
       "    <!-- only if base map is needed -->\n",
       "    <script src='https://api.tiles.mapbox.com/mapbox-gl-js/v0.44.1/mapbox-gl.js'></script>\n",
       "    <link href='https://api.tiles.mapbox.com/mapbox-gl-js/v0.44.1/mapbox-gl.css' rel='stylesheet' />\n",
       "\n",
       "    <style type='text/css'>\n",
       "        body {\n",
       "            margin: 0;\n",
       "            padding: 0;\n",
       "        }\n",
       "\n",
       "        #container {\n",
       "            width: 100vw;\n",
       "            height: 100vh;\n",
       "        }\n",
       "    </style>\n",
       "</head>\n",
       "\n",
       "<body>\n",
       "    <div id='container'></div>\n",
       "</body>\n",
       "\n",
       "<script type='text/javascript'>\n",
       "    function colorToRGBArray(color) {\n",
       "    if (Array.isArray(color)) {\n",
       "        return color.slice(0, 4);\n",
       "    }\n",
       "    const c = rgb(color);\n",
       "    return [c.r, c.g, c.b, 255];\n",
       "} \n",
       "    \n",
       "\n",
       "    \n",
       "\n",
       "    const deckgl = new deck.DeckGL({\n",
       "\n",
       "        container: 'container',\n",
       "        mapboxApiAccessToken: 'pk.eyJ1IjoiaGV1bXNpIiwiYSI6ImNqYng3ZW0xYTJsZHQycXBhM2F1bm9yMXIifQ.kV_zhG36r5EIXXT__LzlCw',\n",
       "        latitude: 37.17407153,\n",
       "        longitude: 126.9086032,\n",
       "        zoom: 10,\n",
       "        bearing: 0,\n",
       "        pitch: 60,\n",
       "        mapStyle: 'mapbox://styles/mapbox/dark-v9',\n",
       "          \n",
       "        \n",
       "    \n",
       "    layers: [\n",
       "        new deck.PathLayer({\n",
       "            'id': 'PathLayer',\n",
       "            'data': [{'path': [[126.986, 37.541], [126.9086032, 37.17407153]], 'name': 'Seoul-Hwaseong', 'color': [255, 30, 100]}, {'path': [[126.986, 37.541], [127.179108, 37.245635]], 'name': 'Seoul-Suwon', 'color': [200, 100, 30]}],\n",
       "            'pickable': false,\n",
       "            // Styles\n",
       "            'widthScale': 20,\n",
       "            'widthMinPixels': 2,\n",
       "            'widthMaxPixels': 9007199254740991,\n",
       "            'rounded': false,\n",
       "            'billboard': false,\n",
       "            'miterLimit': 4,\n",
       "            'dashJustified': false,\n",
       "            'getPath': d => d.path,\n",
       "            'getColor': d => colorToRGBArray(d.color),\n",
       "            'getWidth': d => 5,\n",
       "            //'onHover': ({object, x, y}) => {\n",
       "            //    const tooltip = object.name\n",
       "            //}\n",
       "        })\n",
       "    ]\n",
       "    \n",
       "\n",
       "    })\n",
       "\n",
       "\n",
       "\n",
       "\n",
       "</script>\n",
       "\n",
       "\n",
       "</html>\" style=\"width: 100%; height: 500px;\"></iframe>"
      ],
      "text/plain": [
       "<IPython.core.display.HTML object>"
      ]
     },
     "metadata": {},
     "output_type": "display_data"
    }
   ],
   "source": [
    "path_layer.show()"
   ]
  },
  {
   "cell_type": "code",
   "execution_count": null,
   "metadata": {},
   "outputs": [],
   "source": []
  }
 ],
 "metadata": {
  "kernelspec": {
   "display_name": "Python 3",
   "language": "python",
   "name": "python3"
  },
  "language_info": {
   "codemirror_mode": {
    "name": "ipython",
    "version": 3
   },
   "file_extension": ".py",
   "mimetype": "text/x-python",
   "name": "python",
   "nbconvert_exporter": "python",
   "pygments_lexer": "ipython3",
   "version": "3.6.8"
  }
 },
 "nbformat": 4,
 "nbformat_minor": 4
}
